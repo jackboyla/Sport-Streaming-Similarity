{
  "nbformat": 4,
  "nbformat_minor": 0,
  "metadata": {
    "colab": {
      "name": "DAZN_Homework_jackboylan.ipynb",
      "provenance": [],
      "collapsed_sections": [],
      "toc_visible": true
    },
    "kernelspec": {
      "display_name": "Python 3",
      "name": "python3"
    },
    "language_info": {
      "name": "python"
    }
  },
  "cells": [
    {
      "cell_type": "markdown",
      "metadata": {
        "id": "OGSF-gJonyyU"
      },
      "source": [
        "# DAZN Sport Similarity Task\n",
        "\n",
        "Jack Boylan"
      ]
    },
    {
      "cell_type": "code",
      "metadata": {
        "colab": {
          "base_uri": "https://localhost:8080/"
        },
        "id": "VtO2HeNLaKfj",
        "outputId": "35b6cde5-de74-4d99-fb12-75a0a64ac239"
      },
      "source": [
        "from google.colab import drive\n",
        "import os\n",
        "drive.mount('/content/drive')\n",
        "path = \"/content/drive/My Drive/DAZN_Task_jackboylan/\" # directory where I have downloaded data to\n",
        "\n",
        "os.chdir(path)"
      ],
      "execution_count": 1,
      "outputs": [
        {
          "output_type": "stream",
          "name": "stdout",
          "text": [
            "Drive already mounted at /content/drive; to attempt to forcibly remount, call drive.mount(\"/content/drive\", force_remount=True).\n"
          ]
        }
      ]
    },
    {
      "cell_type": "markdown",
      "metadata": {
        "id": "KgPiFtw8XBY3"
      },
      "source": [
        "# Import Necessary Libraries"
      ]
    },
    {
      "cell_type": "code",
      "metadata": {
        "id": "YERhVHdWoZde"
      },
      "source": [
        "\n",
        "import warnings\n",
        "warnings.filterwarnings('ignore')\n",
        "\n",
        "# import libraries\n",
        "import re\n",
        "import sys\n",
        "import copy\n",
        "import time\n",
        "import datetime\n",
        "import scipy\n",
        "import pandas as pd\n",
        "import numpy as np\n",
        "from sklearn.metrics.pairwise import cosine_similarity\n",
        "\n",
        "# pd.options.display.max_rows = None\n",
        "# pd.options.display.max_columns = None\n"
      ],
      "execution_count": 2,
      "outputs": []
    },
    {
      "cell_type": "markdown",
      "metadata": {
        "id": "rrIx_vHRddj-"
      },
      "source": [
        "# Load Data"
      ]
    },
    {
      "cell_type": "code",
      "metadata": {
        "colab": {
          "base_uri": "https://localhost:8080/"
        },
        "id": "EIPQaeG-Fl13",
        "outputId": "6dcace93-287f-406e-b535-42615a01876f"
      },
      "source": [
        "# load data\n",
        "df = pd.read_csv('DAZN_Data_Scientist_Homework_Dataset.csv', sep='~')\n",
        "\n",
        "# summarize shape\n",
        "print(df.shape)\n",
        "\n",
        "print(df.dtypes)\n"
      ],
      "execution_count": 3,
      "outputs": [
        {
          "output_type": "stream",
          "name": "stdout",
          "text": [
            "(37132, 15)\n",
            "viewer_id                   int64\n",
            "stream_start_time          object\n",
            "stream_end_time            object\n",
            "live_or_on_demand          object\n",
            "customer_country           object\n",
            "match_title                object\n",
            "match_date                 object\n",
            "competition_name           object\n",
            "sport_name                 object\n",
            "device_category            object\n",
            "home_contestant_country    object\n",
            "away_contestant_country    object\n",
            "tournament_start_date      object\n",
            "tournament_end_date        object\n",
            "venue_country              object\n",
            "dtype: object\n"
          ]
        }
      ]
    },
    {
      "cell_type": "code",
      "metadata": {
        "colab": {
          "base_uri": "https://localhost:8080/",
          "height": 573
        },
        "id": "E0D-aXi66cRF",
        "outputId": "ff15928c-7513-4b14-fb7d-6f458aaea4ff"
      },
      "source": [
        "df.head()"
      ],
      "execution_count": 49,
      "outputs": [
        {
          "output_type": "execute_result",
          "data": {
            "text/html": [
              "<div>\n",
              "<style scoped>\n",
              "    .dataframe tbody tr th:only-of-type {\n",
              "        vertical-align: middle;\n",
              "    }\n",
              "\n",
              "    .dataframe tbody tr th {\n",
              "        vertical-align: top;\n",
              "    }\n",
              "\n",
              "    .dataframe thead th {\n",
              "        text-align: right;\n",
              "    }\n",
              "</style>\n",
              "<table border=\"1\" class=\"dataframe\">\n",
              "  <thead>\n",
              "    <tr style=\"text-align: right;\">\n",
              "      <th></th>\n",
              "      <th>viewer_id</th>\n",
              "      <th>stream_start_time</th>\n",
              "      <th>stream_end_time</th>\n",
              "      <th>live_or_on_demand</th>\n",
              "      <th>customer_country</th>\n",
              "      <th>match_title</th>\n",
              "      <th>match_date</th>\n",
              "      <th>competition_name</th>\n",
              "      <th>sport_name</th>\n",
              "      <th>device_category</th>\n",
              "      <th>home_contestant_country</th>\n",
              "      <th>away_contestant_country</th>\n",
              "      <th>tournament_start_date</th>\n",
              "      <th>tournament_end_date</th>\n",
              "      <th>venue_country</th>\n",
              "      <th>DayOfWeek</th>\n",
              "      <th>Month</th>\n",
              "      <th>stream_length_minutes</th>\n",
              "      <th>tournament_length_days</th>\n",
              "      <th>clean_text</th>\n",
              "      <th>card2vec</th>\n",
              "    </tr>\n",
              "  </thead>\n",
              "  <tbody>\n",
              "    <tr>\n",
              "      <th>0</th>\n",
              "      <td>5049</td>\n",
              "      <td>2021-06-11 09:41:37</td>\n",
              "      <td>2021-06-11 12:02:18</td>\n",
              "      <td>Live</td>\n",
              "      <td>Japan</td>\n",
              "      <td>Lions v Dragons</td>\n",
              "      <td>2021-06-11 08:45:00</td>\n",
              "      <td>NPB</td>\n",
              "      <td>Baseball</td>\n",
              "      <td>Web</td>\n",
              "      <td>Japan</td>\n",
              "      <td>Japan</td>\n",
              "      <td>2021-03-02</td>\n",
              "      <td>2021-11-29</td>\n",
              "      <td>Japan</td>\n",
              "      <td>4</td>\n",
              "      <td>6</td>\n",
              "      <td>140.683333</td>\n",
              "      <td>272.0</td>\n",
              "      <td>5049 live japan lions v dragons npb web japan ...</td>\n",
              "      <td>[0.07975250482559204, 0.08638769388198853, -0....</td>\n",
              "    </tr>\n",
              "    <tr>\n",
              "      <th>1</th>\n",
              "      <td>9062</td>\n",
              "      <td>2021-06-13 20:13:36</td>\n",
              "      <td>2021-06-13 20:14:05</td>\n",
              "      <td>Live</td>\n",
              "      <td>Canada</td>\n",
              "      <td>Brazil vs. Canada</td>\n",
              "      <td>2021-06-13 19:10:00</td>\n",
              "      <td>FIBA AmeriCup (W)</td>\n",
              "      <td>Basketball</td>\n",
              "      <td>Unknown</td>\n",
              "      <td>Brazil</td>\n",
              "      <td>Canada</td>\n",
              "      <td>2021-06-11</td>\n",
              "      <td>2021-06-19</td>\n",
              "      <td>Puerto Rico</td>\n",
              "      <td>6</td>\n",
              "      <td>6</td>\n",
              "      <td>0.483333</td>\n",
              "      <td>8.0</td>\n",
              "      <td>9062 live canada brazil vs. canada fiba americ...</td>\n",
              "      <td>[0.16239094734191895, 0.004213003441691399, -0...</td>\n",
              "    </tr>\n",
              "    <tr>\n",
              "      <th>2</th>\n",
              "      <td>9062</td>\n",
              "      <td>2021-05-30 12:53:38</td>\n",
              "      <td>2021-05-30 12:53:56</td>\n",
              "      <td>Live</td>\n",
              "      <td>Canada</td>\n",
              "      <td>MLB Network</td>\n",
              "      <td>2018-01-01 00:00:00</td>\n",
              "      <td>MLB</td>\n",
              "      <td>Baseball</td>\n",
              "      <td>Unknown</td>\n",
              "      <td>Unknown</td>\n",
              "      <td>Unknown</td>\n",
              "      <td>2018-01-28</td>\n",
              "      <td>2018-12-30</td>\n",
              "      <td>England</td>\n",
              "      <td>0</td>\n",
              "      <td>1</td>\n",
              "      <td>0.300000</td>\n",
              "      <td>336.0</td>\n",
              "      <td>9062 live canada mlb network mlb unknown unkno...</td>\n",
              "      <td>[0.029683837667107582, -0.043965209275484085, ...</td>\n",
              "    </tr>\n",
              "    <tr>\n",
              "      <th>3</th>\n",
              "      <td>9062</td>\n",
              "      <td>2021-05-30 20:24:00</td>\n",
              "      <td>2021-05-30 20:24:34</td>\n",
              "      <td>Live</td>\n",
              "      <td>Canada</td>\n",
              "      <td>MLB Network</td>\n",
              "      <td>2018-01-01 00:00:00</td>\n",
              "      <td>MLB</td>\n",
              "      <td>Baseball</td>\n",
              "      <td>Unknown</td>\n",
              "      <td>Unknown</td>\n",
              "      <td>Unknown</td>\n",
              "      <td>2018-01-28</td>\n",
              "      <td>2018-12-30</td>\n",
              "      <td>England</td>\n",
              "      <td>0</td>\n",
              "      <td>1</td>\n",
              "      <td>0.566667</td>\n",
              "      <td>336.0</td>\n",
              "      <td>9062 live canada mlb network mlb unknown unkno...</td>\n",
              "      <td>[0.027660829946398735, -0.05212020501494408, -...</td>\n",
              "    </tr>\n",
              "    <tr>\n",
              "      <th>4</th>\n",
              "      <td>211</td>\n",
              "      <td>2021-05-01 20:01:47</td>\n",
              "      <td>2021-05-01 20:07:08</td>\n",
              "      <td>Live</td>\n",
              "      <td>Italy</td>\n",
              "      <td>Milan v Benevento</td>\n",
              "      <td>2021-05-01 18:45:00</td>\n",
              "      <td>Serie A</td>\n",
              "      <td>Soccer</td>\n",
              "      <td>Mobile</td>\n",
              "      <td>Italy</td>\n",
              "      <td>Italy</td>\n",
              "      <td>2020-09-19</td>\n",
              "      <td>2021-05-23</td>\n",
              "      <td>Italy</td>\n",
              "      <td>5</td>\n",
              "      <td>5</td>\n",
              "      <td>5.350000</td>\n",
              "      <td>246.0</td>\n",
              "      <td>211 live italy milan v benevento serie a mobil...</td>\n",
              "      <td>[0.00797139760106802, -0.02422248013317585, -0...</td>\n",
              "    </tr>\n",
              "  </tbody>\n",
              "</table>\n",
              "</div>"
            ],
            "text/plain": [
              "   viewer_id  ...                                           card2vec\n",
              "0       5049  ...  [0.07975250482559204, 0.08638769388198853, -0....\n",
              "1       9062  ...  [0.16239094734191895, 0.004213003441691399, -0...\n",
              "2       9062  ...  [0.029683837667107582, -0.043965209275484085, ...\n",
              "3       9062  ...  [0.027660829946398735, -0.05212020501494408, -...\n",
              "4        211  ...  [0.00797139760106802, -0.02422248013317585, -0...\n",
              "\n",
              "[5 rows x 21 columns]"
            ]
          },
          "metadata": {},
          "execution_count": 49
        }
      ]
    },
    {
      "cell_type": "markdown",
      "metadata": {
        "id": "99Uc58VzdpXp"
      },
      "source": [
        "# Data Exploration/Cleaning\n",
        "\n",
        "We will first take a look at the data and check for things like missing values, extreme outliers, etc."
      ]
    },
    {
      "cell_type": "code",
      "metadata": {
        "colab": {
          "base_uri": "https://localhost:8080/"
        },
        "id": "qcmrVapQXK-O",
        "outputId": "272d3017-32de-485f-8f8c-2a7c13f07e9e"
      },
      "source": [
        "df.nunique()"
      ],
      "execution_count": 5,
      "outputs": [
        {
          "output_type": "execute_result",
          "data": {
            "text/plain": [
              "viewer_id                  10000\n",
              "stream_start_time          36169\n",
              "stream_end_time            35822\n",
              "live_or_on_demand              3\n",
              "customer_country               7\n",
              "match_title                 2044\n",
              "match_date                  1178\n",
              "competition_name             124\n",
              "sport_name                    22\n",
              "device_category                4\n",
              "home_contestant_country       67\n",
              "away_contestant_country       78\n",
              "tournament_start_date         79\n",
              "tournament_end_date           66\n",
              "venue_country                 51\n",
              "dtype: int64"
            ]
          },
          "metadata": {},
          "execution_count": 5
        }
      ]
    },
    {
      "cell_type": "code",
      "metadata": {
        "colab": {
          "base_uri": "https://localhost:8080/"
        },
        "id": "pGbMc3Fx4I5t",
        "outputId": "259ba12d-8363-4932-8d12-29cc4084a9ae"
      },
      "source": [
        "sports = df['sport_name'].unique()\n",
        "print('number of unique sports:', len(sports), '\\n', sports)"
      ],
      "execution_count": null,
      "outputs": [
        {
          "output_type": "stream",
          "name": "stdout",
          "text": [
            "number of unique sports: 22 \n",
            " ['Baseball' 'Basketball' 'Soccer' 'Tennis' 'Motorsport'\n",
            " 'Mixed Martial Arts' 'Cycling Road' 'Golf' 'American Football'\n",
            " 'Horse Racing' 'Rugby Union' 'Boxing' 'Ice Hockey' 'Darts' 'Handball'\n",
            " 'Pool' 'WWE' 'OTHER' 'Futsal' 'Snooker' 'Field Hockey' 'E-Sports']\n"
          ]
        }
      ]
    },
    {
      "cell_type": "code",
      "metadata": {
        "colab": {
          "base_uri": "https://localhost:8080/"
        },
        "id": "WvTikDjoXMbp",
        "outputId": "04381ab2-5308-4145-929a-7659af1d5c55"
      },
      "source": [
        "df.isnull().sum()"
      ],
      "execution_count": 6,
      "outputs": [
        {
          "output_type": "execute_result",
          "data": {
            "text/plain": [
              "viewer_id                  0\n",
              "stream_start_time          0\n",
              "stream_end_time            0\n",
              "live_or_on_demand          0\n",
              "customer_country           0\n",
              "match_title                0\n",
              "match_date                 0\n",
              "competition_name           0\n",
              "sport_name                 0\n",
              "device_category            0\n",
              "home_contestant_country    0\n",
              "away_contestant_country    0\n",
              "tournament_start_date      0\n",
              "tournament_end_date        0\n",
              "venue_country              0\n",
              "dtype: int64"
            ]
          },
          "metadata": {},
          "execution_count": 6
        }
      ]
    },
    {
      "cell_type": "markdown",
      "metadata": {
        "id": "yB6bJCFq4i_Y"
      },
      "source": [
        "# How will we define similarity? (Assumptions/Model Definition)\n",
        "\n",
        "Taking a look at the variables in our data, there's a number of ways we could say that one sport is 'similar' to another, and a lot of this is up to personal preference or domain knowledge. \n",
        "\n",
        "For our purposes, we will use the \n",
        "\n",
        ">['viewer_id', 'live_or_on_demand', 'customer_country', 'match_title',\n",
        "       'competition_name', 'device_category',\n",
        "       'home_contestant_country', 'away_contestant_country', 'venue_country'] \n",
        "       \n",
        "features as our text description of each event. We'll use [Doc2Vec](https://radimrehurek.com/gensim/auto_examples/tutorials/run_doc2vec_lee.html#sphx-glr-auto-examples-tutorials-run-doc2vec-lee-py) to convert our text to vectors.\n",
        "\n",
        "We can also extract numerical features \n",
        "\n",
        "> ['DayOfWeek', 'Month', 'stream_length_minutes', 'tournament_length_days']\n",
        "\n",
        "to create a dataset suitable for computing similarity. I think these are important features to add from a viewer standpoint, as they tell us about the time commitments required for a particular sport.\n",
        "\n",
        "We are assuming that these features compose a significant portion of the sport's characteristics, and that sports that share similar values among these features should be considered similar.\n",
        "\n",
        "We will use cosine similarity to measure similarity between our entries. From this we can create an aggregate sports matrix that shows us the mean similarity measure between one sport and another.\n",
        "\n",
        "We will create our functions to find the most similar/dissimilar sports using these similarity metrics, and also the N most similar sports to a given sport."
      ]
    },
    {
      "cell_type": "markdown",
      "metadata": {
        "id": "BqvUbhCYgcL0"
      },
      "source": [
        "# Extract and Standardise Numerical Features"
      ]
    },
    {
      "cell_type": "code",
      "metadata": {
        "colab": {
          "base_uri": "https://localhost:8080/",
          "height": 313
        },
        "id": "r_D5FAwPvPLi",
        "outputId": "d164caa8-b703-48cc-f846-f7426d45b96c"
      },
      "source": [
        "# extract values for day and month of match\n",
        "df['match_date'] = pd.to_datetime(df['match_date'], format='%Y-%m-%dT%H:%M:%S.000Z')\n",
        "df['DayOfWeek'] = df['match_date'].dt.dayofweek\n",
        "df['Month'] = df['match_date'].dt.month\n",
        "\n",
        "# extract stream length value\n",
        "df['stream_start_time'] = pd.to_datetime(df['stream_start_time'], format='%Y-%m-%dT%H:%M:%S.000Z')\n",
        "df['stream_end_time'] = pd.to_datetime(df['stream_end_time'], format='%Y-%m-%dT%H:%M:%S.000Z')\n",
        "\n",
        "def get_time_diff(row):\n",
        "    return pd.Timedelta(row['stream_end_time'] - row['stream_start_time']).seconds / 60.0\n",
        "\n",
        "df['stream_length_minutes'] = df.apply(get_time_diff, axis=1)\n",
        "\n",
        "# extract tournament length value\n",
        "df['tournament_start_date'] = pd.to_datetime(df['tournament_start_date'], format='%Y-%m-%dT%H:%M:%S.000Z')\n",
        "df['tournament_end_date'] = pd.to_datetime(df['tournament_end_date'], format='%Y-%m-%dT%H:%M:%S.000Z')\n",
        "\n",
        "def get_tournament_len(row):\n",
        "    return (row['tournament_end_date'] - row['tournament_start_date']).total_seconds() / 86400.0\n",
        "\n",
        "df['tournament_length_days'] = df.apply(get_tournament_len, axis=1)\n",
        "\n",
        "df['home_contestant_country'] = [n.replace('0','Unknown') for n in df['home_contestant_country']]\n",
        "\n",
        "df.head()"
      ],
      "execution_count": 7,
      "outputs": [
        {
          "output_type": "execute_result",
          "data": {
            "text/html": [
              "<div>\n",
              "<style scoped>\n",
              "    .dataframe tbody tr th:only-of-type {\n",
              "        vertical-align: middle;\n",
              "    }\n",
              "\n",
              "    .dataframe tbody tr th {\n",
              "        vertical-align: top;\n",
              "    }\n",
              "\n",
              "    .dataframe thead th {\n",
              "        text-align: right;\n",
              "    }\n",
              "</style>\n",
              "<table border=\"1\" class=\"dataframe\">\n",
              "  <thead>\n",
              "    <tr style=\"text-align: right;\">\n",
              "      <th></th>\n",
              "      <th>viewer_id</th>\n",
              "      <th>stream_start_time</th>\n",
              "      <th>stream_end_time</th>\n",
              "      <th>live_or_on_demand</th>\n",
              "      <th>customer_country</th>\n",
              "      <th>match_title</th>\n",
              "      <th>match_date</th>\n",
              "      <th>competition_name</th>\n",
              "      <th>sport_name</th>\n",
              "      <th>device_category</th>\n",
              "      <th>home_contestant_country</th>\n",
              "      <th>away_contestant_country</th>\n",
              "      <th>tournament_start_date</th>\n",
              "      <th>tournament_end_date</th>\n",
              "      <th>venue_country</th>\n",
              "      <th>DayOfWeek</th>\n",
              "      <th>Month</th>\n",
              "      <th>stream_length_minutes</th>\n",
              "      <th>tournament_length_days</th>\n",
              "    </tr>\n",
              "  </thead>\n",
              "  <tbody>\n",
              "    <tr>\n",
              "      <th>0</th>\n",
              "      <td>5049</td>\n",
              "      <td>2021-06-11 09:41:37</td>\n",
              "      <td>2021-06-11 12:02:18</td>\n",
              "      <td>Live</td>\n",
              "      <td>Japan</td>\n",
              "      <td>Lions v Dragons</td>\n",
              "      <td>2021-06-11 08:45:00</td>\n",
              "      <td>NPB</td>\n",
              "      <td>Baseball</td>\n",
              "      <td>Web</td>\n",
              "      <td>Japan</td>\n",
              "      <td>Japan</td>\n",
              "      <td>2021-03-02</td>\n",
              "      <td>2021-11-29</td>\n",
              "      <td>Japan</td>\n",
              "      <td>4</td>\n",
              "      <td>6</td>\n",
              "      <td>140.683333</td>\n",
              "      <td>272.0</td>\n",
              "    </tr>\n",
              "    <tr>\n",
              "      <th>1</th>\n",
              "      <td>9062</td>\n",
              "      <td>2021-06-13 20:13:36</td>\n",
              "      <td>2021-06-13 20:14:05</td>\n",
              "      <td>Live</td>\n",
              "      <td>Canada</td>\n",
              "      <td>Brazil vs. Canada</td>\n",
              "      <td>2021-06-13 19:10:00</td>\n",
              "      <td>FIBA AmeriCup (W)</td>\n",
              "      <td>Basketball</td>\n",
              "      <td>Unknown</td>\n",
              "      <td>Brazil</td>\n",
              "      <td>Canada</td>\n",
              "      <td>2021-06-11</td>\n",
              "      <td>2021-06-19</td>\n",
              "      <td>Puerto Rico</td>\n",
              "      <td>6</td>\n",
              "      <td>6</td>\n",
              "      <td>0.483333</td>\n",
              "      <td>8.0</td>\n",
              "    </tr>\n",
              "    <tr>\n",
              "      <th>2</th>\n",
              "      <td>9062</td>\n",
              "      <td>2021-05-30 12:53:38</td>\n",
              "      <td>2021-05-30 12:53:56</td>\n",
              "      <td>Live</td>\n",
              "      <td>Canada</td>\n",
              "      <td>MLB Network</td>\n",
              "      <td>2018-01-01 00:00:00</td>\n",
              "      <td>MLB</td>\n",
              "      <td>Baseball</td>\n",
              "      <td>Unknown</td>\n",
              "      <td>Unknown</td>\n",
              "      <td>Unknown</td>\n",
              "      <td>2018-01-28</td>\n",
              "      <td>2018-12-30</td>\n",
              "      <td>England</td>\n",
              "      <td>0</td>\n",
              "      <td>1</td>\n",
              "      <td>0.300000</td>\n",
              "      <td>336.0</td>\n",
              "    </tr>\n",
              "    <tr>\n",
              "      <th>3</th>\n",
              "      <td>9062</td>\n",
              "      <td>2021-05-30 20:24:00</td>\n",
              "      <td>2021-05-30 20:24:34</td>\n",
              "      <td>Live</td>\n",
              "      <td>Canada</td>\n",
              "      <td>MLB Network</td>\n",
              "      <td>2018-01-01 00:00:00</td>\n",
              "      <td>MLB</td>\n",
              "      <td>Baseball</td>\n",
              "      <td>Unknown</td>\n",
              "      <td>Unknown</td>\n",
              "      <td>Unknown</td>\n",
              "      <td>2018-01-28</td>\n",
              "      <td>2018-12-30</td>\n",
              "      <td>England</td>\n",
              "      <td>0</td>\n",
              "      <td>1</td>\n",
              "      <td>0.566667</td>\n",
              "      <td>336.0</td>\n",
              "    </tr>\n",
              "    <tr>\n",
              "      <th>4</th>\n",
              "      <td>211</td>\n",
              "      <td>2021-05-01 20:01:47</td>\n",
              "      <td>2021-05-01 20:07:08</td>\n",
              "      <td>Live</td>\n",
              "      <td>Italy</td>\n",
              "      <td>Milan v Benevento</td>\n",
              "      <td>2021-05-01 18:45:00</td>\n",
              "      <td>Serie A</td>\n",
              "      <td>Soccer</td>\n",
              "      <td>Mobile</td>\n",
              "      <td>Italy</td>\n",
              "      <td>Italy</td>\n",
              "      <td>2020-09-19</td>\n",
              "      <td>2021-05-23</td>\n",
              "      <td>Italy</td>\n",
              "      <td>5</td>\n",
              "      <td>5</td>\n",
              "      <td>5.350000</td>\n",
              "      <td>246.0</td>\n",
              "    </tr>\n",
              "  </tbody>\n",
              "</table>\n",
              "</div>"
            ],
            "text/plain": [
              "   viewer_id   stream_start_time  ... stream_length_minutes tournament_length_days\n",
              "0       5049 2021-06-11 09:41:37  ...            140.683333                  272.0\n",
              "1       9062 2021-06-13 20:13:36  ...              0.483333                    8.0\n",
              "2       9062 2021-05-30 12:53:38  ...              0.300000                  336.0\n",
              "3       9062 2021-05-30 20:24:00  ...              0.566667                  336.0\n",
              "4        211 2021-05-01 20:01:47  ...              5.350000                  246.0\n",
              "\n",
              "[5 rows x 19 columns]"
            ]
          },
          "metadata": {},
          "execution_count": 7
        }
      ]
    },
    {
      "cell_type": "code",
      "metadata": {
        "colab": {
          "base_uri": "https://localhost:8080/",
          "height": 206
        },
        "id": "9l9r7SXHoZ_X",
        "outputId": "6ccebad3-2b29-4b3d-9e37-a3a17d81aa94"
      },
      "source": [
        "\n",
        "numeric_cols = ['DayOfWeek', 'Month', 'stream_length_minutes', 'tournament_length_days']\n",
        "numeric_df = df[numeric_cols]\n",
        "\n",
        "# standardise our data\n",
        "standardised = scipy.stats.zscore(numeric_df)\n",
        "numeric_df = pd.DataFrame(standardised, columns = numeric_cols)\n",
        "numeric_arr = numeric_df.to_numpy()\n",
        "numeric_df.head()"
      ],
      "execution_count": 8,
      "outputs": [
        {
          "output_type": "execute_result",
          "data": {
            "text/html": [
              "<div>\n",
              "<style scoped>\n",
              "    .dataframe tbody tr th:only-of-type {\n",
              "        vertical-align: middle;\n",
              "    }\n",
              "\n",
              "    .dataframe tbody tr th {\n",
              "        vertical-align: top;\n",
              "    }\n",
              "\n",
              "    .dataframe thead th {\n",
              "        text-align: right;\n",
              "    }\n",
              "</style>\n",
              "<table border=\"1\" class=\"dataframe\">\n",
              "  <thead>\n",
              "    <tr style=\"text-align: right;\">\n",
              "      <th></th>\n",
              "      <th>DayOfWeek</th>\n",
              "      <th>Month</th>\n",
              "      <th>stream_length_minutes</th>\n",
              "      <th>tournament_length_days</th>\n",
              "    </tr>\n",
              "  </thead>\n",
              "  <tbody>\n",
              "    <tr>\n",
              "      <th>0</th>\n",
              "      <td>-0.141244</td>\n",
              "      <td>1.203701</td>\n",
              "      <td>2.254073</td>\n",
              "      <td>0.280458</td>\n",
              "    </tr>\n",
              "    <tr>\n",
              "      <th>1</th>\n",
              "      <td>0.966163</td>\n",
              "      <td>1.203701</td>\n",
              "      <td>-0.545479</td>\n",
              "      <td>-2.438076</td>\n",
              "    </tr>\n",
              "    <tr>\n",
              "      <th>2</th>\n",
              "      <td>-2.356059</td>\n",
              "      <td>-6.785115</td>\n",
              "      <td>-0.549140</td>\n",
              "      <td>0.939497</td>\n",
              "    </tr>\n",
              "    <tr>\n",
              "      <th>3</th>\n",
              "      <td>-2.356059</td>\n",
              "      <td>-6.785115</td>\n",
              "      <td>-0.543815</td>\n",
              "      <td>0.939497</td>\n",
              "    </tr>\n",
              "    <tr>\n",
              "      <th>4</th>\n",
              "      <td>0.412459</td>\n",
              "      <td>-0.394062</td>\n",
              "      <td>-0.448300</td>\n",
              "      <td>0.012724</td>\n",
              "    </tr>\n",
              "  </tbody>\n",
              "</table>\n",
              "</div>"
            ],
            "text/plain": [
              "   DayOfWeek     Month  stream_length_minutes  tournament_length_days\n",
              "0  -0.141244  1.203701               2.254073                0.280458\n",
              "1   0.966163  1.203701              -0.545479               -2.438076\n",
              "2  -2.356059 -6.785115              -0.549140                0.939497\n",
              "3  -2.356059 -6.785115              -0.543815                0.939497\n",
              "4   0.412459 -0.394062              -0.448300                0.012724"
            ]
          },
          "metadata": {},
          "execution_count": 8
        }
      ]
    },
    {
      "cell_type": "markdown",
      "metadata": {
        "id": "BOu6ve_ygiL5"
      },
      "source": [
        "# Create Word Vectors from Text Data"
      ]
    },
    {
      "cell_type": "code",
      "metadata": {
        "colab": {
          "base_uri": "https://localhost:8080/"
        },
        "id": "T-e5M5SWjHPb",
        "outputId": "34f034a3-4731-4b2d-f8da-4cd114a13f75"
      },
      "source": [
        "!pip install texthero"
      ],
      "execution_count": 9,
      "outputs": [
        {
          "output_type": "stream",
          "name": "stdout",
          "text": [
            "Requirement already satisfied: texthero in /usr/local/lib/python3.7/dist-packages (1.1.0)\n",
            "Requirement already satisfied: scikit-learn>=0.22 in /usr/local/lib/python3.7/dist-packages (from texthero) (0.22.2.post1)\n",
            "Requirement already satisfied: spacy<3.0.0 in /usr/local/lib/python3.7/dist-packages (from texthero) (2.2.4)\n",
            "Requirement already satisfied: numpy>=1.17 in /usr/local/lib/python3.7/dist-packages (from texthero) (1.19.5)\n",
            "Requirement already satisfied: nltk>=3.3 in /usr/local/lib/python3.7/dist-packages (from texthero) (3.6.3)\n",
            "Requirement already satisfied: plotly>=4.2.0 in /usr/local/lib/python3.7/dist-packages (from texthero) (4.4.1)\n",
            "Requirement already satisfied: wordcloud>=1.5.0 in /usr/local/lib/python3.7/dist-packages (from texthero) (1.5.0)\n",
            "Requirement already satisfied: unidecode>=1.1.1 in /usr/local/lib/python3.7/dist-packages (from texthero) (1.3.2)\n",
            "Requirement already satisfied: gensim<4.0,>=3.6.0 in /usr/local/lib/python3.7/dist-packages (from texthero) (3.6.0)\n",
            "Requirement already satisfied: pandas>=1.0.2 in /usr/local/lib/python3.7/dist-packages (from texthero) (1.1.5)\n",
            "Requirement already satisfied: matplotlib>=3.1.0 in /usr/local/lib/python3.7/dist-packages (from texthero) (3.2.2)\n",
            "Requirement already satisfied: tqdm>=4.3 in /usr/local/lib/python3.7/dist-packages (from texthero) (4.62.3)\n",
            "Requirement already satisfied: scipy>=0.18.1 in /usr/local/lib/python3.7/dist-packages (from gensim<4.0,>=3.6.0->texthero) (1.4.1)\n",
            "Requirement already satisfied: six>=1.5.0 in /usr/local/lib/python3.7/dist-packages (from gensim<4.0,>=3.6.0->texthero) (1.15.0)\n",
            "Requirement already satisfied: smart-open>=1.2.1 in /usr/local/lib/python3.7/dist-packages (from gensim<4.0,>=3.6.0->texthero) (5.2.1)\n",
            "Requirement already satisfied: pyparsing!=2.0.4,!=2.1.2,!=2.1.6,>=2.0.1 in /usr/local/lib/python3.7/dist-packages (from matplotlib>=3.1.0->texthero) (2.4.7)\n",
            "Requirement already satisfied: cycler>=0.10 in /usr/local/lib/python3.7/dist-packages (from matplotlib>=3.1.0->texthero) (0.10.0)\n",
            "Requirement already satisfied: python-dateutil>=2.1 in /usr/local/lib/python3.7/dist-packages (from matplotlib>=3.1.0->texthero) (2.8.2)\n",
            "Requirement already satisfied: kiwisolver>=1.0.1 in /usr/local/lib/python3.7/dist-packages (from matplotlib>=3.1.0->texthero) (1.3.2)\n",
            "Requirement already satisfied: joblib in /usr/local/lib/python3.7/dist-packages (from nltk>=3.3->texthero) (1.0.1)\n",
            "Requirement already satisfied: regex in /usr/local/lib/python3.7/dist-packages (from nltk>=3.3->texthero) (2019.12.20)\n",
            "Requirement already satisfied: click in /usr/local/lib/python3.7/dist-packages (from nltk>=3.3->texthero) (7.1.2)\n",
            "Requirement already satisfied: pytz>=2017.2 in /usr/local/lib/python3.7/dist-packages (from pandas>=1.0.2->texthero) (2018.9)\n",
            "Requirement already satisfied: retrying>=1.3.3 in /usr/local/lib/python3.7/dist-packages (from plotly>=4.2.0->texthero) (1.3.3)\n",
            "Requirement already satisfied: cymem<2.1.0,>=2.0.2 in /usr/local/lib/python3.7/dist-packages (from spacy<3.0.0->texthero) (2.0.5)\n",
            "Requirement already satisfied: plac<1.2.0,>=0.9.6 in /usr/local/lib/python3.7/dist-packages (from spacy<3.0.0->texthero) (1.1.3)\n",
            "Requirement already satisfied: requests<3.0.0,>=2.13.0 in /usr/local/lib/python3.7/dist-packages (from spacy<3.0.0->texthero) (2.23.0)\n",
            "Requirement already satisfied: catalogue<1.1.0,>=0.0.7 in /usr/local/lib/python3.7/dist-packages (from spacy<3.0.0->texthero) (1.0.0)\n",
            "Requirement already satisfied: murmurhash<1.1.0,>=0.28.0 in /usr/local/lib/python3.7/dist-packages (from spacy<3.0.0->texthero) (1.0.5)\n",
            "Requirement already satisfied: preshed<3.1.0,>=3.0.2 in /usr/local/lib/python3.7/dist-packages (from spacy<3.0.0->texthero) (3.0.5)\n",
            "Requirement already satisfied: thinc==7.4.0 in /usr/local/lib/python3.7/dist-packages (from spacy<3.0.0->texthero) (7.4.0)\n",
            "Requirement already satisfied: wasabi<1.1.0,>=0.4.0 in /usr/local/lib/python3.7/dist-packages (from spacy<3.0.0->texthero) (0.8.2)\n",
            "Requirement already satisfied: srsly<1.1.0,>=1.0.2 in /usr/local/lib/python3.7/dist-packages (from spacy<3.0.0->texthero) (1.0.5)\n",
            "Requirement already satisfied: setuptools in /usr/local/lib/python3.7/dist-packages (from spacy<3.0.0->texthero) (57.4.0)\n",
            "Requirement already satisfied: blis<0.5.0,>=0.4.0 in /usr/local/lib/python3.7/dist-packages (from spacy<3.0.0->texthero) (0.4.1)\n",
            "Requirement already satisfied: importlib-metadata>=0.20 in /usr/local/lib/python3.7/dist-packages (from catalogue<1.1.0,>=0.0.7->spacy<3.0.0->texthero) (4.8.1)\n",
            "Requirement already satisfied: zipp>=0.5 in /usr/local/lib/python3.7/dist-packages (from importlib-metadata>=0.20->catalogue<1.1.0,>=0.0.7->spacy<3.0.0->texthero) (3.5.0)\n",
            "Requirement already satisfied: typing-extensions>=3.6.4 in /usr/local/lib/python3.7/dist-packages (from importlib-metadata>=0.20->catalogue<1.1.0,>=0.0.7->spacy<3.0.0->texthero) (3.7.4.3)\n",
            "Requirement already satisfied: certifi>=2017.4.17 in /usr/local/lib/python3.7/dist-packages (from requests<3.0.0,>=2.13.0->spacy<3.0.0->texthero) (2021.5.30)\n",
            "Requirement already satisfied: urllib3!=1.25.0,!=1.25.1,<1.26,>=1.21.1 in /usr/local/lib/python3.7/dist-packages (from requests<3.0.0,>=2.13.0->spacy<3.0.0->texthero) (1.24.3)\n",
            "Requirement already satisfied: chardet<4,>=3.0.2 in /usr/local/lib/python3.7/dist-packages (from requests<3.0.0,>=2.13.0->spacy<3.0.0->texthero) (3.0.4)\n",
            "Requirement already satisfied: idna<3,>=2.5 in /usr/local/lib/python3.7/dist-packages (from requests<3.0.0,>=2.13.0->spacy<3.0.0->texthero) (2.10)\n",
            "Requirement already satisfied: pillow in /usr/local/lib/python3.7/dist-packages (from wordcloud>=1.5.0->texthero) (7.1.2)\n"
          ]
        }
      ]
    },
    {
      "cell_type": "code",
      "metadata": {
        "colab": {
          "base_uri": "https://localhost:8080/",
          "height": 271
        },
        "id": "dAss59UHhfrq",
        "outputId": "d744a1ec-b016-4a04-b4d0-1465f7b3f63a"
      },
      "source": [
        "# clean text\n",
        "\n",
        "import texthero as hero\n",
        "from texthero import preprocessing\n",
        "custom_pipeline = [preprocessing.fillna,\n",
        "                   preprocessing.lowercase,\n",
        "                   preprocessing.remove_whitespace,\n",
        "                   preprocessing.remove_diacritics,\n",
        "                   #preprocessing.remove_brackets\n",
        "                  ]\n",
        "\n",
        "\n",
        "features = ['viewer_id',\n",
        "       'live_or_on_demand', 'customer_country', 'match_title',\n",
        "       'competition_name', 'device_category',\n",
        "       'home_contestant_country', 'away_contestant_country', 'venue_country']\n",
        "\n",
        "df['clean_text'] = hero.clean(df[features[0]], custom_pipeline)\n",
        "\n",
        "for feature in features[1:]:\n",
        "    df['clean_text'] += ' ' + hero.clean(df[feature], custom_pipeline)\n",
        "\n",
        "\n",
        "df['clean_text'] = [n.replace('{','') for n in df['clean_text']]\n",
        "df['clean_text'] = [n.replace('}','') for n in df['clean_text']]\n",
        "df['clean_text'] = [n.replace('(','') for n in df['clean_text']]\n",
        "df['clean_text'] = [n.replace(')','') for n in df['clean_text']]\n",
        "\n",
        "df.head(2)\n",
        "\n",
        "\n"
      ],
      "execution_count": 12,
      "outputs": [
        {
          "output_type": "execute_result",
          "data": {
            "text/html": [
              "<div>\n",
              "<style scoped>\n",
              "    .dataframe tbody tr th:only-of-type {\n",
              "        vertical-align: middle;\n",
              "    }\n",
              "\n",
              "    .dataframe tbody tr th {\n",
              "        vertical-align: top;\n",
              "    }\n",
              "\n",
              "    .dataframe thead th {\n",
              "        text-align: right;\n",
              "    }\n",
              "</style>\n",
              "<table border=\"1\" class=\"dataframe\">\n",
              "  <thead>\n",
              "    <tr style=\"text-align: right;\">\n",
              "      <th></th>\n",
              "      <th>viewer_id</th>\n",
              "      <th>stream_start_time</th>\n",
              "      <th>stream_end_time</th>\n",
              "      <th>live_or_on_demand</th>\n",
              "      <th>customer_country</th>\n",
              "      <th>match_title</th>\n",
              "      <th>match_date</th>\n",
              "      <th>competition_name</th>\n",
              "      <th>sport_name</th>\n",
              "      <th>device_category</th>\n",
              "      <th>home_contestant_country</th>\n",
              "      <th>away_contestant_country</th>\n",
              "      <th>tournament_start_date</th>\n",
              "      <th>tournament_end_date</th>\n",
              "      <th>venue_country</th>\n",
              "      <th>DayOfWeek</th>\n",
              "      <th>Month</th>\n",
              "      <th>stream_length_minutes</th>\n",
              "      <th>tournament_length_days</th>\n",
              "      <th>clean_text</th>\n",
              "    </tr>\n",
              "  </thead>\n",
              "  <tbody>\n",
              "    <tr>\n",
              "      <th>0</th>\n",
              "      <td>5049</td>\n",
              "      <td>2021-06-11 09:41:37</td>\n",
              "      <td>2021-06-11 12:02:18</td>\n",
              "      <td>Live</td>\n",
              "      <td>Japan</td>\n",
              "      <td>Lions v Dragons</td>\n",
              "      <td>2021-06-11 08:45:00</td>\n",
              "      <td>NPB</td>\n",
              "      <td>Baseball</td>\n",
              "      <td>Web</td>\n",
              "      <td>Japan</td>\n",
              "      <td>Japan</td>\n",
              "      <td>2021-03-02</td>\n",
              "      <td>2021-11-29</td>\n",
              "      <td>Japan</td>\n",
              "      <td>4</td>\n",
              "      <td>6</td>\n",
              "      <td>140.683333</td>\n",
              "      <td>272.0</td>\n",
              "      <td>5049 live japan lions v dragons npb web japan ...</td>\n",
              "    </tr>\n",
              "    <tr>\n",
              "      <th>1</th>\n",
              "      <td>9062</td>\n",
              "      <td>2021-06-13 20:13:36</td>\n",
              "      <td>2021-06-13 20:14:05</td>\n",
              "      <td>Live</td>\n",
              "      <td>Canada</td>\n",
              "      <td>Brazil vs. Canada</td>\n",
              "      <td>2021-06-13 19:10:00</td>\n",
              "      <td>FIBA AmeriCup (W)</td>\n",
              "      <td>Basketball</td>\n",
              "      <td>Unknown</td>\n",
              "      <td>Brazil</td>\n",
              "      <td>Canada</td>\n",
              "      <td>2021-06-11</td>\n",
              "      <td>2021-06-19</td>\n",
              "      <td>Puerto Rico</td>\n",
              "      <td>6</td>\n",
              "      <td>6</td>\n",
              "      <td>0.483333</td>\n",
              "      <td>8.0</td>\n",
              "      <td>9062 live canada brazil vs. canada fiba americ...</td>\n",
              "    </tr>\n",
              "  </tbody>\n",
              "</table>\n",
              "</div>"
            ],
            "text/plain": [
              "   viewer_id  ...                                         clean_text\n",
              "0       5049  ...  5049 live japan lions v dragons npb web japan ...\n",
              "1       9062  ...  9062 live canada brazil vs. canada fiba americ...\n",
              "\n",
              "[2 rows x 20 columns]"
            ]
          },
          "metadata": {},
          "execution_count": 12
        }
      ]
    },
    {
      "cell_type": "code",
      "metadata": {
        "id": "FvoIHqzGnPRD"
      },
      "source": [
        "from gensim.models.doc2vec import Doc2Vec, TaggedDocument\n",
        "#tokenize and tag the card text\n",
        "card_docs = [TaggedDocument(doc.split(' '), [i]) \n",
        "             for i, doc in enumerate(df.clean_text)]\n"
      ],
      "execution_count": 13,
      "outputs": []
    },
    {
      "cell_type": "code",
      "metadata": {
        "id": "FTqSH0YdnaaF"
      },
      "source": [
        "#instantiate model\n",
        "model = Doc2Vec(vector_size=64, window=2, min_count=1, workers=8, epochs = 40)\n",
        "#build vocab\n",
        "model.build_vocab(card_docs)\n",
        "#train model\n",
        "model.train(card_docs, total_examples=model.corpus_count, epochs=model.epochs)"
      ],
      "execution_count": 14,
      "outputs": []
    },
    {
      "cell_type": "code",
      "metadata": {
        "id": "1zwHZYCcnaXv"
      },
      "source": [
        "#generate vectors\n",
        "card2vec = [model.infer_vector((df['clean_text'][i].split(' '))) \n",
        "            for i in range(0,len(df['clean_text']))]\n"
      ],
      "execution_count": 15,
      "outputs": []
    },
    {
      "cell_type": "code",
      "metadata": {
        "id": "6cX_Nz-snaUX"
      },
      "source": [
        "# Create a list of lists\n",
        "dtv_arr = np.array(card2vec)\n",
        "dtv = np.array(card2vec).tolist()\n",
        "#set list to dataframe column\n",
        "df['card2vec'] = dtv"
      ],
      "execution_count": 16,
      "outputs": []
    },
    {
      "cell_type": "code",
      "metadata": {
        "colab": {
          "base_uri": "https://localhost:8080/"
        },
        "id": "gNQDHT6LsP4A",
        "outputId": "4d52deab-a433-4a20-90a4-9ed33acc3361"
      },
      "source": [
        "arr = np.hstack((dtv_arr, numeric_arr))\n",
        "# pd.DataFrame(arr).to_csv(\"dazn_streaming_data_features.csv\")\n",
        "arr[0]"
      ],
      "execution_count": 17,
      "outputs": [
        {
          "output_type": "execute_result",
          "data": {
            "text/plain": [
              "array([ 7.97525048e-02,  8.63876939e-02, -1.47419661e-01, -8.38291943e-02,\n",
              "       -1.33435056e-01, -1.86939031e-01, -1.45122662e-01, -1.16793498e-01,\n",
              "        1.26969904e-01,  1.10280037e-01,  2.41244640e-02,  6.31890818e-02,\n",
              "       -1.25219434e-01,  1.01557232e-01,  1.89303048e-02,  1.08136870e-01,\n",
              "        3.84503566e-02,  5.03317714e-02,  7.78801069e-02,  1.47796422e-01,\n",
              "       -8.50944892e-02,  1.37648359e-01,  2.32642889e-02, -5.36002666e-02,\n",
              "        2.35394798e-02, -5.72783090e-02, -2.28557433e-03,  1.26002222e-01,\n",
              "        2.49266508e-04,  1.80692729e-02, -1.15765303e-01,  1.32756770e-01,\n",
              "        1.15410006e-02, -6.73440695e-02, -4.14405651e-02,  1.50490046e-01,\n",
              "       -2.35171363e-01, -6.54827356e-02, -9.96426120e-02, -9.39504579e-02,\n",
              "        1.31078586e-01,  1.64996475e-01, -5.31563722e-02, -7.19943866e-02,\n",
              "        6.74366532e-03, -1.23612836e-01, -1.20284416e-01,  2.78975256e-03,\n",
              "        2.22104713e-02, -9.96744111e-02, -1.67574093e-01,  2.13400479e-02,\n",
              "        1.06387421e-01, -1.77610922e-03,  6.56972751e-02, -2.39847116e-02,\n",
              "       -1.95545018e-01, -1.22394532e-01, -1.39777780e-01, -1.24436691e-01,\n",
              "        6.63091093e-02, -5.52176721e-02, -1.03826582e-01, -2.15201721e-01,\n",
              "       -1.41244233e-01,  1.20370100e+00,  2.25407302e+00,  2.80458237e-01])"
            ]
          },
          "metadata": {},
          "execution_count": 17
        }
      ]
    },
    {
      "cell_type": "markdown",
      "metadata": {
        "id": "Qi0RLqvrgS38"
      },
      "source": [
        "# Computing Cosine Similarity Matrix"
      ]
    },
    {
      "cell_type": "code",
      "metadata": {
        "id": "XLhj-T67iOmo"
      },
      "source": [
        "# define cosine similarity func\n",
        "\n",
        "def np_cosine_similarity(u, v):\n",
        "  u = np.expand_dims(u, 1)\n",
        "  n = np.sum(u * v, axis=2)\n",
        "  d = np.linalg.norm(u, axis=2) * np.linalg.norm(v, axis=1)\n",
        "\n",
        "  return n / d"
      ],
      "execution_count": 18,
      "outputs": []
    },
    {
      "cell_type": "code",
      "metadata": {
        "id": "V5haZV4xxV6t"
      },
      "source": [
        "# Compute cosine similarity\n",
        "x = arr\n",
        "\n",
        "sports_similarity_mat = np.zeros((len(sports), len(sports)))\n",
        "count_sports_similarity_mat = np.zeros((len(sports), len(sports)))\n",
        "sports = list(sports)\n",
        "\n",
        "\n",
        "# get list of sport names for each entry\n",
        "compared_sport_name_lst = [df.iloc[j]['sport_name'] for j in range(len(x))]\n",
        "# get list of sport indices\n",
        "compared_sport_idx_lst = [sports.index(compared_sport_name) for compared_sport_name in compared_sport_name_lst]\n",
        "\n",
        "k = 0\n",
        "# this loop takes a single row from the array and computes cosine\n",
        "# similarity against all rows in the array\n",
        "for row in x:\n",
        "\n",
        "    if k > 4999 and k%5000 == 0:\n",
        "        print(\"finished row {}\".format(k))\n",
        "\n",
        "    sport_name = df.iloc[k]['sport_name']\n",
        "    sport_index = sports.index(sport_name)\n",
        "\n",
        "    # Calculate cosine similarity in NumPy\n",
        "    results = np_cosine_similarity(x, [row])\n",
        "\n",
        "    # update our aggregate sport similarity matrix\n",
        "    for j, res in enumerate(results):\n",
        "\n",
        "        sports_similarity_mat[sport_index][compared_sport_idx_lst[j]] += res\n",
        "        count_sports_similarity_mat[sport_index][compared_sport_idx_lst[j]] += 1\n",
        "\n",
        "\n",
        "    k += 1\n",
        "    "
      ],
      "execution_count": null,
      "outputs": []
    },
    {
      "cell_type": "code",
      "metadata": {
        "colab": {
          "base_uri": "https://localhost:8080/",
          "height": 226
        },
        "id": "tOpchEwf8y1H",
        "outputId": "8bf2f410-24df-4f9e-fa31-eb9d485a1151"
      },
      "source": [
        "sim_scores = np.nan_to_num(sports_similarity_mat / count_sports_similarity_mat)\n",
        "sim_scores_df = pd.DataFrame(sim_scores)\n",
        "# sim_scores_df.to_csv(\"sports_cosine_sim_matrix.csv\")\n",
        "sim_scores_df.head()"
      ],
      "execution_count": 22,
      "outputs": [
        {
          "output_type": "execute_result",
          "data": {
            "text/html": [
              "<div>\n",
              "<style scoped>\n",
              "    .dataframe tbody tr th:only-of-type {\n",
              "        vertical-align: middle;\n",
              "    }\n",
              "\n",
              "    .dataframe tbody tr th {\n",
              "        vertical-align: top;\n",
              "    }\n",
              "\n",
              "    .dataframe thead th {\n",
              "        text-align: right;\n",
              "    }\n",
              "</style>\n",
              "<table border=\"1\" class=\"dataframe\">\n",
              "  <thead>\n",
              "    <tr style=\"text-align: right;\">\n",
              "      <th></th>\n",
              "      <th>0</th>\n",
              "      <th>1</th>\n",
              "      <th>2</th>\n",
              "      <th>3</th>\n",
              "      <th>4</th>\n",
              "      <th>5</th>\n",
              "      <th>6</th>\n",
              "      <th>7</th>\n",
              "      <th>8</th>\n",
              "      <th>9</th>\n",
              "      <th>10</th>\n",
              "      <th>11</th>\n",
              "      <th>12</th>\n",
              "      <th>13</th>\n",
              "      <th>14</th>\n",
              "      <th>15</th>\n",
              "      <th>16</th>\n",
              "      <th>17</th>\n",
              "      <th>18</th>\n",
              "      <th>19</th>\n",
              "      <th>20</th>\n",
              "      <th>21</th>\n",
              "    </tr>\n",
              "  </thead>\n",
              "  <tbody>\n",
              "    <tr>\n",
              "      <th>0</th>\n",
              "      <td>0.134254</td>\n",
              "      <td>0.003657</td>\n",
              "      <td>0.008424</td>\n",
              "      <td>0.004036</td>\n",
              "      <td>0.095479</td>\n",
              "      <td>0.131223</td>\n",
              "      <td>0.090985</td>\n",
              "      <td>-0.039540</td>\n",
              "      <td>-0.072586</td>\n",
              "      <td>0.261381</td>\n",
              "      <td>-0.014348</td>\n",
              "      <td>-0.079346</td>\n",
              "      <td>-0.026907</td>\n",
              "      <td>0.170657</td>\n",
              "      <td>0.086171</td>\n",
              "      <td>0.061314</td>\n",
              "      <td>0.192888</td>\n",
              "      <td>0.149956</td>\n",
              "      <td>0.038980</td>\n",
              "      <td>0.074622</td>\n",
              "      <td>0.135574</td>\n",
              "      <td>0.123026</td>\n",
              "    </tr>\n",
              "    <tr>\n",
              "      <th>1</th>\n",
              "      <td>0.003657</td>\n",
              "      <td>0.149167</td>\n",
              "      <td>0.070671</td>\n",
              "      <td>0.180489</td>\n",
              "      <td>0.071033</td>\n",
              "      <td>0.007286</td>\n",
              "      <td>0.082673</td>\n",
              "      <td>0.162299</td>\n",
              "      <td>-0.032018</td>\n",
              "      <td>-0.099296</td>\n",
              "      <td>0.201021</td>\n",
              "      <td>0.182387</td>\n",
              "      <td>0.157711</td>\n",
              "      <td>-0.110408</td>\n",
              "      <td>0.083365</td>\n",
              "      <td>0.065353</td>\n",
              "      <td>-0.041156</td>\n",
              "      <td>-0.058281</td>\n",
              "      <td>0.076327</td>\n",
              "      <td>-0.072878</td>\n",
              "      <td>-0.161047</td>\n",
              "      <td>0.057066</td>\n",
              "    </tr>\n",
              "    <tr>\n",
              "      <th>2</th>\n",
              "      <td>0.008424</td>\n",
              "      <td>0.070671</td>\n",
              "      <td>0.105886</td>\n",
              "      <td>-0.020442</td>\n",
              "      <td>0.065531</td>\n",
              "      <td>0.028170</td>\n",
              "      <td>0.067510</td>\n",
              "      <td>-0.073909</td>\n",
              "      <td>0.197342</td>\n",
              "      <td>-0.016266</td>\n",
              "      <td>0.032775</td>\n",
              "      <td>0.088728</td>\n",
              "      <td>0.042006</td>\n",
              "      <td>0.084761</td>\n",
              "      <td>0.069320</td>\n",
              "      <td>0.010353</td>\n",
              "      <td>0.023008</td>\n",
              "      <td>0.149955</td>\n",
              "      <td>0.111642</td>\n",
              "      <td>0.054518</td>\n",
              "      <td>0.040513</td>\n",
              "      <td>0.172150</td>\n",
              "    </tr>\n",
              "    <tr>\n",
              "      <th>3</th>\n",
              "      <td>0.004036</td>\n",
              "      <td>0.180489</td>\n",
              "      <td>-0.020442</td>\n",
              "      <td>0.693496</td>\n",
              "      <td>-0.185019</td>\n",
              "      <td>-0.355527</td>\n",
              "      <td>0.190135</td>\n",
              "      <td>0.693844</td>\n",
              "      <td>-0.468075</td>\n",
              "      <td>-0.105214</td>\n",
              "      <td>0.536113</td>\n",
              "      <td>0.244738</td>\n",
              "      <td>0.388233</td>\n",
              "      <td>-0.342706</td>\n",
              "      <td>-0.017155</td>\n",
              "      <td>0.361619</td>\n",
              "      <td>-0.230576</td>\n",
              "      <td>-0.486913</td>\n",
              "      <td>0.050626</td>\n",
              "      <td>-0.348261</td>\n",
              "      <td>-0.536571</td>\n",
              "      <td>-0.163580</td>\n",
              "    </tr>\n",
              "    <tr>\n",
              "      <th>4</th>\n",
              "      <td>0.095479</td>\n",
              "      <td>0.071033</td>\n",
              "      <td>0.065531</td>\n",
              "      <td>-0.185019</td>\n",
              "      <td>0.367926</td>\n",
              "      <td>0.431175</td>\n",
              "      <td>0.033475</td>\n",
              "      <td>-0.152519</td>\n",
              "      <td>0.062970</td>\n",
              "      <td>0.109279</td>\n",
              "      <td>-0.088339</td>\n",
              "      <td>0.018531</td>\n",
              "      <td>-0.092548</td>\n",
              "      <td>0.067234</td>\n",
              "      <td>0.148798</td>\n",
              "      <td>-0.157235</td>\n",
              "      <td>0.264165</td>\n",
              "      <td>0.264565</td>\n",
              "      <td>-0.018861</td>\n",
              "      <td>0.150766</td>\n",
              "      <td>0.158248</td>\n",
              "      <td>0.174910</td>\n",
              "    </tr>\n",
              "  </tbody>\n",
              "</table>\n",
              "</div>"
            ],
            "text/plain": [
              "         0         1         2   ...        19        20        21\n",
              "0  0.134254  0.003657  0.008424  ...  0.074622  0.135574  0.123026\n",
              "1  0.003657  0.149167  0.070671  ... -0.072878 -0.161047  0.057066\n",
              "2  0.008424  0.070671  0.105886  ...  0.054518  0.040513  0.172150\n",
              "3  0.004036  0.180489 -0.020442  ... -0.348261 -0.536571 -0.163580\n",
              "4  0.095479  0.071033  0.065531  ...  0.150766  0.158248  0.174910\n",
              "\n",
              "[5 rows x 22 columns]"
            ]
          },
          "metadata": {},
          "execution_count": 22
        }
      ]
    },
    {
      "cell_type": "markdown",
      "metadata": {
        "id": "9JLha813dOnd"
      },
      "source": [
        "# SIMILAR SPORTS TO X FUNCTION\n",
        "\n",
        "In terms of most similar sports to Golf, I would tend to agree that Tennis and Rugby would rank high."
      ]
    },
    {
      "cell_type": "code",
      "metadata": {
        "id": "e9qONTHUiDww"
      },
      "source": [
        "# # load in saved files instead of re running everything\n",
        "\n",
        "# sim_scores_df = pd.read_csv(\"sports_cosine_sim_matrix.csv\", index_col=0, sep=',')\n",
        "# sim_scores = sim_scores_new_df.to_numpy()\n",
        "\n",
        "# saved_df = pd.read_csv('DAZN_Data_Scientist_Homework_Dataset.csv', sep='~')\n",
        "# sports = saved_df['sport_name'].unique()"
      ],
      "execution_count": null,
      "outputs": []
    },
    {
      "cell_type": "code",
      "metadata": {
        "colab": {
          "base_uri": "https://localhost:8080/"
        },
        "id": "N2XBsQ58vPBL",
        "outputId": "1e501126-b6c6-4175-8a84-7553429d17ab"
      },
      "source": [
        "def find_similar_sports(sport_name, sport_similarity_mat=sim_scores, N=3, sports=sports):\n",
        "\n",
        "    N += 1\n",
        "    sport_ind = sports.index(sport_name)\n",
        "\n",
        "    b = np.argpartition(sim_scores, -N)    # top N values from each row\n",
        "    b = b[sport_ind,-N:]\n",
        "\n",
        "    d = np.partition(sim_scores, -N)    # top N values indices from each row\n",
        "    d = d[sport_ind,-N:]\n",
        "\n",
        "    zipped_lists = zip(d, b)\n",
        "\n",
        "    sorted_zipped_lists = sorted(zipped_lists, reverse=True)   # Sort by first element of each pair\n",
        "\n",
        "    sorted_list = [(ind, score) for score, ind in sorted_zipped_lists]\n",
        "\n",
        "    print('MOST SIMILAR SPORTS TO {}:\\n'.format(sport_name))\n",
        "\n",
        "    for element in sorted_list:\n",
        "        if element[0] != sport_ind and N > 0:\n",
        "           print(sports[element[0]], element[1])\n",
        "           N -= 1\n",
        "\n",
        "\n",
        "find_similar_sports('Golf', N=5)"
      ],
      "execution_count": 46,
      "outputs": [
        {
          "output_type": "stream",
          "name": "stdout",
          "text": [
            "MOST SIMILAR SPORTS TO Golf:\n",
            "\n",
            "Tennis 0.6938436603780744\n",
            "Rugby Union 0.5177537817872859\n",
            "Ice Hockey 0.3514912384695351\n",
            "Pool 0.27092902307628053\n",
            "Boxing 0.2605019725794412\n"
          ]
        }
      ]
    },
    {
      "cell_type": "markdown",
      "metadata": {
        "id": "5pQFAFLgdK37"
      },
      "source": [
        "# MOST SIMILAR PAIRS OF SPORTS FUNCTION"
      ]
    },
    {
      "cell_type": "markdown",
      "metadata": {
        "id": "jHhAdan4jl4A"
      },
      "source": [
        "Golf and Tennis are the most similar sports according to our work.\n",
        "\n",
        "Field Hockey and 'OTHER' is harder to judge because we don't really know exactly what sports are in 'OTHER'. \n",
        "\n",
        "I wouldn't agree that Field Hockey and Darts are similar from the little I know about either."
      ]
    },
    {
      "cell_type": "code",
      "metadata": {
        "colab": {
          "base_uri": "https://localhost:8080/"
        },
        "id": "wl6l2MgGXABd",
        "outputId": "857e440c-14e8-4fed-fa18-4030930ab8c5"
      },
      "source": [
        "# we want to avoid matching sports with themselves or repeating combinations of sports\n",
        "\n",
        "def n_most_similar(a=sim_scores, sports=sports, n=2):\n",
        "    m = a.shape[0]\n",
        "    r = np.arange(m)\n",
        "    mask = r[:,None] > r\n",
        "    idx = a[mask].argpartition(-n)[-n:]\n",
        "\n",
        "    clens = np.arange(m).cumsum()    \n",
        "    grp_start = clens[:-1]\n",
        "    grp_stop = clens[1:]-1    \n",
        "\n",
        "    rows = np.searchsorted(grp_stop, idx)+1    \n",
        "    cols  = idx - grp_start[rows-1]\n",
        "    coords = list(zip(rows, cols))\n",
        "\n",
        "    sorted_coords = []\n",
        "    for c in coords:\n",
        "        sorted_coords.append( (\"{} and {}\".format(sports[c[0]], sports[c[1]]) , \n",
        "                            sim_scores[c[0]][c[1]]) )\n",
        "\n",
        "    sorted_coords.sort(key=lambda x: x[1], reverse=True)\n",
        "    return sorted_coords\n",
        "\n",
        "\n",
        "coords = n_most_similar(n=5)\n",
        "\n",
        "print(\"MOST SIMILAR SPORTS:\\n\")\n",
        "for a in coords:\n",
        "  print(\"{}: {}\".format(a[0], a[1]))"
      ],
      "execution_count": 47,
      "outputs": [
        {
          "output_type": "stream",
          "name": "stdout",
          "text": [
            "MOST SIMILAR SPORTS:\n",
            "\n",
            "Golf and Tennis: 0.6938436603780744\n",
            "Field Hockey and OTHER: 0.6162379725442297\n",
            "Field Hockey and Darts: 0.6014892487637196\n",
            "OTHER and Darts: 0.5941237692192245\n",
            "Rugby Union and Tennis: 0.5361129851666161\n"
          ]
        }
      ]
    },
    {
      "cell_type": "markdown",
      "metadata": {
        "id": "Ej40HfMudGtX"
      },
      "source": [
        "# MOST DISSIMILAR PAIRS OF SPORTS FUNCTION"
      ]
    },
    {
      "cell_type": "code",
      "metadata": {
        "colab": {
          "base_uri": "https://localhost:8080/"
        },
        "id": "-51Hwx16YMCi",
        "outputId": "13dcdde4-705a-4159-91d0-38cdc0e8fbc8"
      },
      "source": [
        "def n_least_similar(a=sim_scores, sports=sports, n=2):\n",
        "    m = a.shape[0]\n",
        "    r = np.arange(m)\n",
        "    mask = r[:,None] > r\n",
        "    idx = a[mask].argpartition(n)[:n]\n",
        "\n",
        "    clens = np.arange(m).cumsum()    \n",
        "    grp_start = clens[:-1]\n",
        "    grp_stop = clens[1:]-1    \n",
        "\n",
        "    rows = np.searchsorted(grp_stop, idx)+1    \n",
        "    cols  = idx - grp_start[rows-1]\n",
        "    coords = list(zip(rows, cols))\n",
        "\n",
        "    sorted_coords = []\n",
        "    for c in coords:\n",
        "        sorted_coords.append( (\"{} and {}\".format(sports[c[0]], sports[c[1]]) , \n",
        "                            sim_scores[c[0]][c[1]]) )\n",
        "\n",
        "    sorted_coords.sort(key=lambda x: x[1])\n",
        "    return sorted_coords\n",
        "\n",
        "\n",
        "coords = n_least_similar(n=5)\n",
        "\n",
        "print(\"MOST DISSIMILAR SPORTS:\\n\")\n",
        "for a in coords:\n",
        "  print(\"{}: {}\".format(a[0], a[1]))"
      ],
      "execution_count": 48,
      "outputs": [
        {
          "output_type": "stream",
          "name": "stdout",
          "text": [
            "MOST DISSIMILAR SPORTS:\n",
            "\n",
            "Field Hockey and Golf: -0.6426338880747827\n",
            "OTHER and Golf: -0.6148627963271553\n",
            "American Football and Golf: -0.5690987107171803\n",
            "Darts and Golf: -0.5390285654434096\n",
            "Field Hockey and Tennis: -0.5365713365966149\n"
          ]
        }
      ]
    },
    {
      "cell_type": "markdown",
      "metadata": {
        "id": "38vfNAOXkY4t"
      },
      "source": [
        "Field Hockey and Golf are the most disparate sports, followed by 'OTHER' and Golf and American Football and Golf. I have no evidence to disagree with any of these results.\n",
        "\n",
        "It's worth noting here that the cosine similarity score can range between [-1,1], where a\n",
        "- −1 value will indicate strongly opposite vectors\n",
        "- 0 independent (orthogonal) vectors\n",
        "- 1 similar (positive co-linear) vectors. \n",
        "\n",
        "Intermediate values are used to assess the degree of similarity. This function returns the lowest cosine score, in this case the 'most opposite' sports. Another way to get dissimilar sports might be to get scores closest to 0, giving us sports that share no attributes."
      ]
    },
    {
      "cell_type": "code",
      "metadata": {
        "id": "rcL56k08mGG6"
      },
      "source": [
        ""
      ],
      "execution_count": null,
      "outputs": []
    }
  ]
}